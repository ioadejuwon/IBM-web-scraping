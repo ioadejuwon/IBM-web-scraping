{
 "cells": [
  {
   "cell_type": "code",
   "execution_count": 1,
   "id": "df19f5a3",
   "metadata": {},
   "outputs": [],
   "source": [
    "import pandas as pd\n",
    "from bs4 import BeautifulSoup as BS\n",
    "\n",
    "import yfinance as yf # to get the AAPL ticker\n",
    "import json #to read JSON file"
   ]
  },
  {
   "cell_type": "code",
   "execution_count": 2,
   "id": "bf4aeb42",
   "metadata": {},
   "outputs": [
    {
     "data": {
      "text/html": [
       "<div>\n",
       "<style scoped>\n",
       "    .dataframe tbody tr th:only-of-type {\n",
       "        vertical-align: middle;\n",
       "    }\n",
       "\n",
       "    .dataframe tbody tr th {\n",
       "        vertical-align: top;\n",
       "    }\n",
       "\n",
       "    .dataframe thead th {\n",
       "        text-align: right;\n",
       "    }\n",
       "</style>\n",
       "<table border=\"1\" class=\"dataframe\">\n",
       "  <thead>\n",
       "    <tr style=\"text-align: right;\">\n",
       "      <th></th>\n",
       "      <th>Open</th>\n",
       "      <th>High</th>\n",
       "      <th>Low</th>\n",
       "      <th>Close</th>\n",
       "      <th>Volume</th>\n",
       "      <th>Dividends</th>\n",
       "      <th>Stock Splits</th>\n",
       "    </tr>\n",
       "    <tr>\n",
       "      <th>Date</th>\n",
       "      <th></th>\n",
       "      <th></th>\n",
       "      <th></th>\n",
       "      <th></th>\n",
       "      <th></th>\n",
       "      <th></th>\n",
       "      <th></th>\n",
       "    </tr>\n",
       "  </thead>\n",
       "  <tbody>\n",
       "    <tr>\n",
       "      <th>1980-03-17 00:00:00-05:00</th>\n",
       "      <td>3.125000</td>\n",
       "      <td>3.302083</td>\n",
       "      <td>3.125000</td>\n",
       "      <td>3.145833</td>\n",
       "      <td>219600</td>\n",
       "      <td>0.0</td>\n",
       "      <td>0.0</td>\n",
       "    </tr>\n",
       "    <tr>\n",
       "      <th>1980-03-18 00:00:00-05:00</th>\n",
       "      <td>3.125000</td>\n",
       "      <td>3.125000</td>\n",
       "      <td>2.937500</td>\n",
       "      <td>3.031250</td>\n",
       "      <td>727200</td>\n",
       "      <td>0.0</td>\n",
       "      <td>0.0</td>\n",
       "    </tr>\n",
       "    <tr>\n",
       "      <th>1980-03-19 00:00:00-05:00</th>\n",
       "      <td>3.031250</td>\n",
       "      <td>3.083333</td>\n",
       "      <td>3.020833</td>\n",
       "      <td>3.041667</td>\n",
       "      <td>295200</td>\n",
       "      <td>0.0</td>\n",
       "      <td>0.0</td>\n",
       "    </tr>\n",
       "    <tr>\n",
       "      <th>1980-03-20 00:00:00-05:00</th>\n",
       "      <td>3.041667</td>\n",
       "      <td>3.062500</td>\n",
       "      <td>3.010417</td>\n",
       "      <td>3.010417</td>\n",
       "      <td>159600</td>\n",
       "      <td>0.0</td>\n",
       "      <td>0.0</td>\n",
       "    </tr>\n",
       "    <tr>\n",
       "      <th>1980-03-21 00:00:00-05:00</th>\n",
       "      <td>3.010417</td>\n",
       "      <td>3.020833</td>\n",
       "      <td>2.906250</td>\n",
       "      <td>2.916667</td>\n",
       "      <td>130800</td>\n",
       "      <td>0.0</td>\n",
       "      <td>0.0</td>\n",
       "    </tr>\n",
       "  </tbody>\n",
       "</table>\n",
       "</div>"
      ],
      "text/plain": [
       "                               Open      High       Low     Close  Volume  \\\n",
       "Date                                                                        \n",
       "1980-03-17 00:00:00-05:00  3.125000  3.302083  3.125000  3.145833  219600   \n",
       "1980-03-18 00:00:00-05:00  3.125000  3.125000  2.937500  3.031250  727200   \n",
       "1980-03-19 00:00:00-05:00  3.031250  3.083333  3.020833  3.041667  295200   \n",
       "1980-03-20 00:00:00-05:00  3.041667  3.062500  3.010417  3.010417  159600   \n",
       "1980-03-21 00:00:00-05:00  3.010417  3.020833  2.906250  2.916667  130800   \n",
       "\n",
       "                           Dividends  Stock Splits  \n",
       "Date                                                \n",
       "1980-03-17 00:00:00-05:00        0.0           0.0  \n",
       "1980-03-18 00:00:00-05:00        0.0           0.0  \n",
       "1980-03-19 00:00:00-05:00        0.0           0.0  \n",
       "1980-03-20 00:00:00-05:00        0.0           0.0  \n",
       "1980-03-21 00:00:00-05:00        0.0           0.0  "
      ]
     },
     "execution_count": 2,
     "metadata": {},
     "output_type": "execute_result"
    }
   ],
   "source": [
    "amd = yf.Ticker('AMD')\n",
    "amd_data = amd.history(period = \"max\")\n",
    "\n",
    "amd_data.head()"
   ]
  },
  {
   "cell_type": "code",
   "execution_count": 3,
   "id": "b0f9133c",
   "metadata": {},
   "outputs": [
    {
     "data": {
      "text/html": [
       "<div>\n",
       "<style scoped>\n",
       "    .dataframe tbody tr th:only-of-type {\n",
       "        vertical-align: middle;\n",
       "    }\n",
       "\n",
       "    .dataframe tbody tr th {\n",
       "        vertical-align: top;\n",
       "    }\n",
       "\n",
       "    .dataframe thead th {\n",
       "        text-align: right;\n",
       "    }\n",
       "</style>\n",
       "<table border=\"1\" class=\"dataframe\">\n",
       "  <thead>\n",
       "    <tr style=\"text-align: right;\">\n",
       "      <th></th>\n",
       "      <th>Open</th>\n",
       "      <th>High</th>\n",
       "      <th>Low</th>\n",
       "      <th>Close</th>\n",
       "      <th>Volume</th>\n",
       "      <th>Dividends</th>\n",
       "      <th>Stock Splits</th>\n",
       "    </tr>\n",
       "    <tr>\n",
       "      <th>Date</th>\n",
       "      <th></th>\n",
       "      <th></th>\n",
       "      <th></th>\n",
       "      <th></th>\n",
       "      <th></th>\n",
       "      <th></th>\n",
       "      <th></th>\n",
       "    </tr>\n",
       "  </thead>\n",
       "  <tbody>\n",
       "    <tr>\n",
       "      <th>2025-07-25 00:00:00-04:00</th>\n",
       "      <td>163.509995</td>\n",
       "      <td>167.179993</td>\n",
       "      <td>162.360001</td>\n",
       "      <td>166.470001</td>\n",
       "      <td>53432300</td>\n",
       "      <td>0.0</td>\n",
       "      <td>0.0</td>\n",
       "    </tr>\n",
       "    <tr>\n",
       "      <th>2025-07-28 00:00:00-04:00</th>\n",
       "      <td>169.080002</td>\n",
       "      <td>174.699997</td>\n",
       "      <td>168.669998</td>\n",
       "      <td>173.660004</td>\n",
       "      <td>68267800</td>\n",
       "      <td>0.0</td>\n",
       "      <td>0.0</td>\n",
       "    </tr>\n",
       "    <tr>\n",
       "      <th>2025-07-29 00:00:00-04:00</th>\n",
       "      <td>175.210007</td>\n",
       "      <td>182.309998</td>\n",
       "      <td>174.679993</td>\n",
       "      <td>177.440002</td>\n",
       "      <td>108154800</td>\n",
       "      <td>0.0</td>\n",
       "      <td>0.0</td>\n",
       "    </tr>\n",
       "    <tr>\n",
       "      <th>2025-07-30 00:00:00-04:00</th>\n",
       "      <td>175.610001</td>\n",
       "      <td>180.369995</td>\n",
       "      <td>173.800003</td>\n",
       "      <td>179.509995</td>\n",
       "      <td>64820300</td>\n",
       "      <td>0.0</td>\n",
       "      <td>0.0</td>\n",
       "    </tr>\n",
       "    <tr>\n",
       "      <th>2025-07-31 00:00:00-04:00</th>\n",
       "      <td>182.020004</td>\n",
       "      <td>182.500000</td>\n",
       "      <td>173.000000</td>\n",
       "      <td>176.309998</td>\n",
       "      <td>71361500</td>\n",
       "      <td>0.0</td>\n",
       "      <td>0.0</td>\n",
       "    </tr>\n",
       "  </tbody>\n",
       "</table>\n",
       "</div>"
      ],
      "text/plain": [
       "                                 Open        High         Low       Close  \\\n",
       "Date                                                                        \n",
       "2025-07-25 00:00:00-04:00  163.509995  167.179993  162.360001  166.470001   \n",
       "2025-07-28 00:00:00-04:00  169.080002  174.699997  168.669998  173.660004   \n",
       "2025-07-29 00:00:00-04:00  175.210007  182.309998  174.679993  177.440002   \n",
       "2025-07-30 00:00:00-04:00  175.610001  180.369995  173.800003  179.509995   \n",
       "2025-07-31 00:00:00-04:00  182.020004  182.500000  173.000000  176.309998   \n",
       "\n",
       "                              Volume  Dividends  Stock Splits  \n",
       "Date                                                           \n",
       "2025-07-25 00:00:00-04:00   53432300        0.0           0.0  \n",
       "2025-07-28 00:00:00-04:00   68267800        0.0           0.0  \n",
       "2025-07-29 00:00:00-04:00  108154800        0.0           0.0  \n",
       "2025-07-30 00:00:00-04:00   64820300        0.0           0.0  \n",
       "2025-07-31 00:00:00-04:00   71361500        0.0           0.0  "
      ]
     },
     "execution_count": 3,
     "metadata": {},
     "output_type": "execute_result"
    }
   ],
   "source": [
    "amd_data.tail()"
   ]
  },
  {
   "cell_type": "code",
   "execution_count": null,
   "id": "5071d707",
   "metadata": {},
   "outputs": [
    {
     "name": "stdout",
     "output_type": "stream",
     "text": [
      "--2025-08-01 06:46:01--  https://cf-courses-data.s3.us.cloud-object-storage.appdomain.cloud/IBMDeveloperSkillsNetwork-PY0220EN-SkillsNetwork/data/amd.json\n",
      "Resolving cf-courses-data.s3.us.cloud-object-storage.appdomain.cloud (cf-courses-data.s3.us.cloud-object-storage.appdomain.cloud)... 169.63.118.104\n",
      "Connecting to cf-courses-data.s3.us.cloud-object-storage.appdomain.cloud (cf-courses-data.s3.us.cloud-object-storage.appdomain.cloud)|169.63.118.104|:443... connected.\n",
      "HTTP request sent, awaiting response... 200 OK\n",
      "Length: 5838 (5.7K) [application/json]\n",
      "Saving to: ‘amd.json’\n",
      "\n",
      "amd.json            100%[===================>]   5.70K  --.-KB/s    in 0s      \n",
      "\n",
      "2025-08-01 06:46:06 (309 MB/s) - ‘amd.json’ saved [5838/5838]\n",
      "\n"
     ]
    }
   ],
   "source": [
    "!wget https://cf-courses-data.s3.us.cloud-object-storage.appdomain.cloud/IBMDeveloperSkillsNetwork-PY0220EN-SkillsNetwork/data/amd.json\n"
   ]
  },
  {
   "cell_type": "code",
   "execution_count": 7,
   "id": "4b0bf31d",
   "metadata": {},
   "outputs": [],
   "source": [
    "import json\n",
    "\n",
    "with open('amd.json') as json_file:\n",
    "    amd_info = json.load(json_file)"
   ]
  },
  {
   "cell_type": "code",
   "execution_count": 8,
   "id": "4d0751bc",
   "metadata": {},
   "outputs": [
    {
     "data": {
      "text/plain": [
       "'United States'"
      ]
     },
     "execution_count": 8,
     "metadata": {},
     "output_type": "execute_result"
    }
   ],
   "source": [
    "amd_info['country']"
   ]
  },
  {
   "cell_type": "code",
   "execution_count": 9,
   "id": "0c312180",
   "metadata": {},
   "outputs": [
    {
     "data": {
      "text/plain": [
       "'Technology'"
      ]
     },
     "execution_count": 9,
     "metadata": {},
     "output_type": "execute_result"
    }
   ],
   "source": [
    "amd_info['sector']"
   ]
  },
  {
   "cell_type": "code",
   "execution_count": 13,
   "id": "bc55eae2",
   "metadata": {},
   "outputs": [
    {
     "name": "stdout",
     "output_type": "stream",
     "text": [
      "                                 Open        High         Low       Close  \\\n",
      "Date                                                                        \n",
      "1980-03-17 00:00:00-05:00    3.125000    3.302083    3.125000    3.145833   \n",
      "1980-03-18 00:00:00-05:00    3.125000    3.125000    2.937500    3.031250   \n",
      "1980-03-19 00:00:00-05:00    3.031250    3.083333    3.020833    3.041667   \n",
      "1980-03-20 00:00:00-05:00    3.041667    3.062500    3.010417    3.010417   \n",
      "1980-03-21 00:00:00-05:00    3.010417    3.020833    2.906250    2.916667   \n",
      "...                               ...         ...         ...         ...   \n",
      "2025-07-25 00:00:00-04:00  163.509995  167.179993  162.360001  166.470001   \n",
      "2025-07-28 00:00:00-04:00  169.080002  174.699997  168.669998  173.660004   \n",
      "2025-07-29 00:00:00-04:00  175.210007  182.309998  174.679993  177.440002   \n",
      "2025-07-30 00:00:00-04:00  175.610001  180.369995  173.800003  179.509995   \n",
      "2025-07-31 00:00:00-04:00  182.020004  182.500000  173.000000  176.309998   \n",
      "\n",
      "                              Volume  Dividends  Stock Splits  \n",
      "Date                                                           \n",
      "1980-03-17 00:00:00-05:00     219600        0.0           0.0  \n",
      "1980-03-18 00:00:00-05:00     727200        0.0           0.0  \n",
      "1980-03-19 00:00:00-05:00     295200        0.0           0.0  \n",
      "1980-03-20 00:00:00-05:00     159600        0.0           0.0  \n",
      "1980-03-21 00:00:00-05:00     130800        0.0           0.0  \n",
      "...                              ...        ...           ...  \n",
      "2025-07-25 00:00:00-04:00   53432300        0.0           0.0  \n",
      "2025-07-28 00:00:00-04:00   68267800        0.0           0.0  \n",
      "2025-07-29 00:00:00-04:00  108154800        0.0           0.0  \n",
      "2025-07-30 00:00:00-04:00   64820300        0.0           0.0  \n",
      "2025-07-31 00:00:00-04:00   71361500        0.0           0.0  \n",
      "\n",
      "[11437 rows x 7 columns]\n"
     ]
    }
   ],
   "source": [
    "# amd_info['volume']\n",
    "amd_volume = amd.history(period = 'max')\n",
    "print(amd_volume)"
   ]
  }
 ],
 "metadata": {
  "kernelspec": {
   "display_name": "venv",
   "language": "python",
   "name": "python3"
  },
  "language_info": {
   "codemirror_mode": {
    "name": "ipython",
    "version": 3
   },
   "file_extension": ".py",
   "mimetype": "text/x-python",
   "name": "python",
   "nbconvert_exporter": "python",
   "pygments_lexer": "ipython3",
   "version": "3.13.1"
  }
 },
 "nbformat": 4,
 "nbformat_minor": 5
}
